{
 "cells": [
  {
   "cell_type": "raw",
   "metadata": {},
   "source": [
    " QUESTION12: According to the formula of 3.38 the given equation is correct if sum of squares of xi and yi are the same."
   ]
  },
  {
   "cell_type": "code",
   "execution_count": 14,
   "metadata": {},
   "outputs": [],
   "source": [
    "#b)Since sum of squares are to equal what we can do is we can take equal arrays\n",
    "import numpy as np\n",
    "import pandas as pd\n",
    "from sklearn.linear_model import LinearRegression\n",
    "import matplotlib.pyplot as plt\n",
    "import statsmodels.formula.api as smf\n",
    "\n"
   ]
  },
  {
   "cell_type": "code",
   "execution_count": 17,
   "metadata": {},
   "outputs": [],
   "source": [
    "#b)Since sum of squares are to equal what we can do is we can take unequal arrays of have relation of subset superset\n",
    "X=np.arange(1,100,1).reshape(-1,1)\n",
    "Y=np.arange(1,100,2).reshape(-1,1)\n"
   ]
  },
  {
   "cell_type": "code",
   "execution_count": 16,
   "metadata": {},
   "outputs": [],
   "source": [
    "X=np.arange(1,100,1).reshape(-1,1)\n",
    "Y=np.arange(1,100,1).reshape(-1,1)"
   ]
  },
  {
   "cell_type": "markdown",
   "metadata": {},
   "source": [
    "Question 13"
   ]
  },
  {
   "cell_type": "code",
   "execution_count": 27,
   "metadata": {},
   "outputs": [
    {
     "name": "stdout",
     "output_type": "stream",
     "text": [
      "                            OLS Regression Results                            \n",
      "==============================================================================\n",
      "Dep. Variable:                      Y   R-squared:                       0.272\n",
      "Model:                            OLS   Adj. R-squared:                  0.257\n",
      "Method:                 Least Squares   F-statistic:                     18.08\n",
      "Date:                Tue, 13 Apr 2021   Prob (F-statistic):           2.12e-07\n",
      "Time:                        14:31:43   Log-Likelihood:                -144.32\n",
      "No. Observations:                 100   AIC:                             294.6\n",
      "Df Residuals:                      97   BIC:                             302.5\n",
      "Df Model:                           2                                         \n",
      "Covariance Type:            nonrobust                                         \n",
      "==============================================================================\n",
      "                 coef    std err          t      P>|t|      [0.025      0.975]\n",
      "------------------------------------------------------------------------------\n",
      "Intercept     -0.8573      0.132     -6.484      0.000      -1.120      -0.595\n",
      "X              0.6230      0.104      6.008      0.000       0.417       0.829\n",
      "Z             -0.0668      0.080     -0.830      0.409      -0.226       0.093\n",
      "==============================================================================\n",
      "Omnibus:                        7.876   Durbin-Watson:                   2.003\n",
      "Prob(Omnibus):                  0.019   Jarque-Bera (JB):                3.580\n",
      "Skew:                           0.188   Prob(JB):                        0.167\n",
      "Kurtosis:                       2.152   Cond. No.                         2.47\n",
      "==============================================================================\n",
      "\n",
      "Notes:\n",
      "[1] Standard Errors assume that the covariance matrix of the errors is correctly specified.ERROR! Session/line number was not unique in database. History logging moved to new session 50\n",
      "\n",
      "                            OLS Regression Results                            \n",
      "==============================================================================\n",
      "Dep. Variable:                      Y   R-squared:                       0.266\n",
      "Model:                            OLS   Adj. R-squared:                  0.259\n",
      "Method:                 Least Squares   F-statistic:                     35.58\n",
      "Date:                Tue, 13 Apr 2021   Prob (F-statistic):           3.89e-08\n",
      "Time:                        14:31:43   Log-Likelihood:                -144.67\n",
      "No. Observations:                 100   AIC:                             293.3\n",
      "Df Residuals:                      98   BIC:                             298.6\n",
      "Df Model:                           1                                         \n",
      "Covariance Type:            nonrobust                                         \n",
      "==============================================================================\n",
      "                 coef    std err          t      P>|t|      [0.025      0.975]\n",
      "------------------------------------------------------------------------------\n",
      "Intercept     -0.9248      0.104     -8.889      0.000      -1.131      -0.718\n",
      "X              0.6147      0.103      5.965      0.000       0.410       0.819\n",
      "==============================================================================\n",
      "Omnibus:                        5.184   Durbin-Watson:                   1.995\n",
      "Prob(Omnibus):                  0.075   Jarque-Bera (JB):                3.000\n",
      "Skew:                           0.210   Prob(JB):                        0.223\n",
      "Kurtosis:                       2.262   Cond. No.                         1.06\n",
      "==============================================================================\n",
      "\n",
      "Notes:\n",
      "[1] Standard Errors assume that the covariance matrix of the errors is correctly specified.\n"
     ]
    }
   ],
   "source": [
    "np.random.seed(0)\n",
    "X = np.random.normal(0,1,100)\n",
    "eps = np.random.normal(0,1,100)\n",
    "Y= -1+0.5*X+eps\n",
    "Z=X*X\n",
    "df=pd.DataFrame({\"X\":X,\"Y\":Y,\"Z\":Z},columns=[\"X\",\"Y\",\"Z\"])\n",
    "df\n",
    "model=smf.ols(formula=\"Y~X+Z\",data=df).fit()\n",
    "print(model.summary())\n",
    "model2=smf.ols(formula=\"Y~X\",data=df).fit()\n",
    "print(model2.summary())\n",
    "\n"
   ]
  },
  {
   "cell_type": "code",
   "execution_count": null,
   "metadata": {},
   "outputs": [
    {
     "name": "stdout",
     "output_type": "stream",
     "text": [
      "ERROR! Session/line number was not unique in database. History logging moved to new session 52\n"
     ]
    }
   ],
   "source": [
    "Ypred=model2.get_prediction(X)\n",
    "plt.scatter(X,Y)\n"
   ]
  },
  {
   "cell_type": "markdown",
   "metadata": {},
   "source": [
    "No in this problem there is evidence for X2 term increasing accuracy"
   ]
  },
  {
   "cell_type": "code",
   "execution_count": 26,
   "metadata": {},
   "outputs": [
    {
     "name": "stdout",
     "output_type": "stream",
     "text": [
      "[-0.92484691]\n",
      "[[0.61469843]]\n"
     ]
    },
    {
     "data": {
      "text/plain": [
       "[<matplotlib.lines.Line2D at 0x14cd8af4e50>]"
      ]
     },
     "execution_count": 26,
     "metadata": {},
     "output_type": "execute_result"
    },
    {
     "data": {
      "image/png": "[encoded data removed]",
      "text/plain": [
       "<Figure size 432x288 with 1 Axes>"
      ]
     },
     "metadata": {
      "needs_background": "light"
     },
     "output_type": "display_data"
    }
   ],
   "source": [
    "#more noise sd=1\n",
    "np.random.seed(0)\n",
    "X1 = np.random.normal(loc=0, scale=1, size=[100,1])\n",
    "eps = np.random.normal(loc=0, scale=1, size=[100,1])\n",
    "Y1= -1+0.5*X1+eps\n",
    "plt.scatter(X1,Y1)\n",
    "model=LinearRegression()\n",
    "model.fit(X1,Y1)\n",
    "print(model.intercept_)\n",
    "print(model.coef_)\n",
    "Y1pred=model.predict(X1)\n",
    "plt.plot(X1,Y1pred,color=\"red\",linewidth=2)"
   ]
  }
 ],
 "metadata": {
  "kernelspec": {
   "display_name": "Python 3",
   "language": "python",
   "name": "python3"
  },
  "language_info": {
   "codemirror_mode": {
    "name": "ipython",
    "version": 3
   },
   "file_extension": ".py",
   "mimetype": "text/x-python",
   "name": "python",
   "nbconvert_exporter": "python",
   "pygments_lexer": "ipython3",
   "version": "3.8.5"
  }
 },
 "nbformat": 4,
 "nbformat_minor": 4
}
