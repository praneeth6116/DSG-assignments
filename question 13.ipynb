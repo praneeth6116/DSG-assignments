{
 "cells": [
  {
   "cell_type": "raw",
   "metadata": {},
   "source": [
    " QUESTION12: According to the formula of 3.38 the given equation is correct if sum of squares of xi and yi are the same."
   ]
  },
  {
   "cell_type": "code",
   "execution_count": 30,
   "metadata": {},
   "outputs": [],
   "source": [
    "#b)Since sum of squares are to equal what we can do is we can take equal arrays\n",
    "import numpy as np\n",
    "import pandas as pd\n",
    "from sklearn.linear_model import LinearRegression\n",
    "import matplotlib.pyplot as plt\n",
    "import statsmodels.formula.api as smf\n",
    "\n"
   ]
  },
  {
   "cell_type": "code",
   "execution_count": 31,
   "metadata": {},
   "outputs": [],
   "source": [
    "#b)Since sum of squares are to equal what we can do is we can take unequal arrays of have relation of subset superset\n",
    "X=np.arange(1,100,1).reshape(-1,1)\n",
    "Y=np.arange(1,100,2).reshape(-1,1)\n"
   ]
  },
  {
   "cell_type": "code",
   "execution_count": 29,
   "metadata": {},
   "outputs": [],
   "source": [
    "X=np.arange(1,100,1).reshape(-1,1)\n",
    "Y=np.arange(1,100,1).reshape(-1,1)"
   ]
  },
  {
   "cell_type": "markdown",
   "metadata": {},
   "source": [
    "Question 13"
   ]
  },
  {
   "cell_type": "code",
   "execution_count": 43,
   "metadata": {},
   "outputs": [
    {
     "name": "stdout",
     "output_type": "stream",
     "text": [
      "                            OLS Regression Results                            \n",
      "==============================================================================\n",
      "Dep. Variable:                      Y   R-squared:                       0.811\n",
      "Model:                            OLS   Adj. R-squared:                  0.809\n",
      "Method:                 Least Squares   F-statistic:                     421.1\n",
      "Date:                Tue, 13 Apr 2021   Prob (F-statistic):           2.96e-37\n",
      "Time:                        19:18:10   Log-Likelihood:                -6.0443\n",
      "No. Observations:                 100   AIC:                             16.09\n",
      "Df Residuals:                      98   BIC:                             21.30\n",
      "Df Model:                           1                                         \n",
      "Covariance Type:            nonrobust                                         \n",
      "==============================================================================\n",
      "                 coef    std err          t      P>|t|      [0.025      0.975]\n",
      "------------------------------------------------------------------------------\n",
      "Intercept     -0.9812      0.026    -37.722      0.000      -1.033      -0.930\n",
      "X              0.5287      0.026     20.521      0.000       0.478       0.580\n",
      "==============================================================================\n",
      "Omnibus:                        5.184   Durbin-Watson:                   1.995\n",
      "Prob(Omnibus):                  0.075   Jarque-Bera (JB):                3.000\n",
      "Skew:                           0.210   Prob(JB):                        0.223\n",
      "Kurtosis:                       2.262   Cond. No.                         1.06\n",
      "==============================================================================\n",
      "\n",
      "Notes:\n",
      "[1] Standard Errors assume that the covariance matrix of the errors is correctly specified.\n"
     ]
    }
   ],
   "source": [
    "np.random.seed(0)\n",
    "X = np.random.normal(0,1,100)\n",
    "eps = np.random.normal(0,0.25,100)\n",
    "Y= -1+0.5*X+eps\n",
    "Z=X*X\n",
    "df=pd.DataFrame({\"X\":X,\"Y\":Y,\"Z\":Z},columns=[\"X\",\"Y\",\"Z\"])\n",
    "df\n",
    "model2=smf.ols(formula=\"Y~X\",data=df).fit()\n",
    "print(model2.summary())\n",
    "\n"
   ]
  },
  {
   "cell_type": "code",
   "execution_count": 40,
   "metadata": {},
   "outputs": [
    {
     "data": {
      "text/plain": [
       "[<matplotlib.lines.Line2D at 0x14cd9e57070>]"
      ]
     },
     "execution_count": 40,
     "metadata": {},
     "output_type": "execute_result"
    },
    {
     "data": {
      "image/png": "[encoded data removed]",
      "text/plain": [
       "<Figure size 432x288 with 1 Axes>"
      ]
     },
     "metadata": {
      "needs_background": "light"
     },
     "output_type": "display_data"
    }
   ],
   "source": [
    "\n",
    "plt.scatter(X,Y)\n",
    "x=X\n",
    "y=-0.9812+0.5287*x\n",
    "plt.plot(x,y,color=\"red\",linewidth=\"2\",label=\"Least square line\")\n",
    "plt.plot(x,(-1+0.5*x),color=\"blue\",linewidth=\"2\",label=\"population regression line\")"
   ]
  },
  {
   "cell_type": "raw",
   "metadata": {},
   "source": [
    "It is to observed that it is a linear graph.The predicted and actual values of b0 and b1 are almost same."
   ]
  },
  {
   "cell_type": "code",
   "execution_count": 45,
   "metadata": {},
   "outputs": [
    {
     "name": "stdout",
     "output_type": "stream",
     "text": [
      "                            OLS Regression Results                            \n",
      "==============================================================================\n",
      "Dep. Variable:                      Y   R-squared:                       0.813\n",
      "Model:                            OLS   Adj. R-squared:                  0.809\n",
      "Method:                 Least Squares   F-statistic:                     210.2\n",
      "Date:                Tue, 13 Apr 2021   Prob (F-statistic):           5.44e-36\n",
      "Time:                        19:18:23   Log-Likelihood:                -5.6904\n",
      "No. Observations:                 100   AIC:                             17.38\n",
      "Df Residuals:                      97   BIC:                             25.20\n",
      "Df Model:                           2                                         \n",
      "Covariance Type:            nonrobust                                         \n",
      "==============================================================================\n",
      "                 coef    std err          t      P>|t|      [0.025      0.975]\n",
      "------------------------------------------------------------------------------\n",
      "Intercept     -0.9643      0.033    -29.173      0.000      -1.030      -0.899\n",
      "X              0.5308      0.026     20.473      0.000       0.479       0.582\n",
      "Z             -0.0167      0.020     -0.830      0.409      -0.057       0.023\n",
      "==============================================================================\n",
      "Omnibus:                        7.876   Durbin-Watson:                   2.003\n",
      "Prob(Omnibus):                  0.019   Jarque-Bera (JB):                3.580\n",
      "Skew:                           0.188   Prob(JB):                        0.167\n",
      "Kurtosis:                       2.152   Cond. No.                         2.47\n",
      "==============================================================================\n",
      "\n",
      "Notes:\n",
      "[1] Standard Errors assume that the covariance matrix of the errors is correctly specified.\n"
     ]
    }
   ],
   "source": [
    "model=smf.ols(formula=\"Y~X+Z\",data=df).fit()\n",
    "print(model.summary())"
   ]
  },
  {
   "cell_type": "markdown",
   "metadata": {},
   "source": [
    "No in this problem there is evidence for X2 term increasing accuracy as the p value with regards to Z which is x2 is high we can understand that it has very less signifance in model"
   ]
  },
  {
   "cell_type": "code",
   "execution_count": 57,
   "metadata": {},
   "outputs": [
    {
     "data": {
      "text/plain": [
       "[<matplotlib.lines.Line2D at 0x14cda1d4dc0>]"
      ]
     },
     "execution_count": 57,
     "metadata": {},
     "output_type": "execute_result"
    },
    {
     "data": {
      "image/png": "[encoded data removed]",
      "text/plain": [
       "<Figure size 432x288 with 1 Axes>"
      ]
     },
     "metadata": {
      "needs_background": "light"
     },
     "output_type": "display_data"
    }
   ],
   "source": [
    "\n",
    "    np.random.seed(0)\n",
    "    X = np.random.normal(0,1,100)\n",
    "    eps = np.random.normal(0,0.1,100)\n",
    "    Y= -1+0.5*X+eps\n",
    "    Z=X*X\n",
    "    df3=pd.DataFrame({\"X\":X,\"Y\":Y,\"Z\":Z},columns=[\"X\",\"Y\",\"Z\"])\n",
    "    \n",
    "    model3=smf.ols(formula=\"Y~X\",data=df3).fit()\n",
    "    plt.scatter(X,Y)\n",
    "    x=X\n",
    "    \n",
    "    plt.plot(x,(-1+0.5*x),color=\"blue\",linewidth=\"2\",label=\"population regression line\")\n",
    "    "
   ]
  },
  {
   "cell_type": "code",
   "execution_count": 61,
   "metadata": {},
   "outputs": [
    {
     "data": {
      "text/plain": [
       "[<matplotlib.lines.Line2D at 0x14cda230a00>]"
      ]
     },
     "execution_count": 61,
     "metadata": {},
     "output_type": "execute_result"
    },
    {
     "data": {
      "image/png": "[encoded data removed]",
      "text/plain": [
       "<Figure size 432x288 with 1 Axes>"
      ]
     },
     "metadata": {
      "needs_background": "light"
     },
     "output_type": "display_data"
    }
   ],
   "source": [
    "    np.random.seed(0)\n",
    "    X1 = np.random.normal(0,1,100)\n",
    "    eps = np.random.normal(0,0.9,100)\n",
    "    Y1= -1+0.5*X1+eps\n",
    "    Z=X1*X1\n",
    "    df2=pd.DataFrame({\"X\":X1,\"Y\":Y1},columns=[\"X\",\"Y\"])\n",
    "    \n",
    "    model4=smf.ols(formula=\"Y1~X1\",data=df2).fit()\n",
    "    plt.scatter(X1,Y1)\n",
    "    x=X1\n",
    "    \n",
    "    plt.plot(x,(-1+0.5*x),color=\"blue\",linewidth=\"2\",label=\"population regression line\")"
   ]
  },
  {
   "cell_type": "code",
   "execution_count": 58,
   "metadata": {},
   "outputs": [
    {
     "data": {
      "text/html": [
       "<div>\n",
       "<style scoped>\n",
       "    .dataframe tbody tr th:only-of-type {\n",
       "        vertical-align: middle;\n",
       "    }\n",
       "\n",
       "    .dataframe tbody tr th {\n",
       "        vertical-align: top;\n",
       "    }\n",
       "\n",
       "    .dataframe thead th {\n",
       "        text-align: right;\n",
       "    }\n",
       "</style>\n",
       "<table border=\"1\" class=\"dataframe\">\n",
       "  <thead>\n",
       "    <tr style=\"text-align: right;\">\n",
       "      <th></th>\n",
       "      <th>min.</th>\n",
       "      <th>max.</th>\n",
       "    </tr>\n",
       "  </thead>\n",
       "  <tbody>\n",
       "    <tr>\n",
       "      <th>Intercept</th>\n",
       "      <td>-1.013132</td>\n",
       "      <td>-0.971837</td>\n",
       "    </tr>\n",
       "    <tr>\n",
       "      <th>X</th>\n",
       "      <td>0.491020</td>\n",
       "      <td>0.531920</td>\n",
       "    </tr>\n",
       "  </tbody>\n",
       "</table>\n",
       "</div>"
      ],
      "text/plain": [
       "               min.      max.\n",
       "Intercept -1.013132 -0.971837\n",
       "X          0.491020  0.531920"
      ]
     },
     "execution_count": 58,
     "metadata": {},
     "output_type": "execute_result"
    }
   ],
   "source": [
    "confinter = model3.conf_int(alpha=0.05)\n",
    "confinter.rename(columns={0: \"min.\", 1: \"max.\",})"
   ]
  },
  {
   "cell_type": "code",
   "execution_count": 62,
   "metadata": {},
   "outputs": [
    {
     "data": {
      "text/html": [
       "<div>\n",
       "<style scoped>\n",
       "    .dataframe tbody tr th:only-of-type {\n",
       "        vertical-align: middle;\n",
       "    }\n",
       "\n",
       "    .dataframe tbody tr th {\n",
       "        vertical-align: top;\n",
       "    }\n",
       "\n",
       "    .dataframe thead th {\n",
       "        text-align: right;\n",
       "    }\n",
       "</style>\n",
       "<table border=\"1\" class=\"dataframe\">\n",
       "  <thead>\n",
       "    <tr style=\"text-align: right;\">\n",
       "      <th></th>\n",
       "      <th>min.</th>\n",
       "      <th>max.</th>\n",
       "    </tr>\n",
       "  </thead>\n",
       "  <tbody>\n",
       "    <tr>\n",
       "      <th>Intercept</th>\n",
       "      <td>-1.118190</td>\n",
       "      <td>-0.746535</td>\n",
       "    </tr>\n",
       "    <tr>\n",
       "      <th>X1</th>\n",
       "      <td>0.419178</td>\n",
       "      <td>0.787279</td>\n",
       "    </tr>\n",
       "  </tbody>\n",
       "</table>\n",
       "</div>"
      ],
      "text/plain": [
       "               min.      max.\n",
       "Intercept -1.118190 -0.746535\n",
       "X1         0.419178  0.787279"
      ]
     },
     "execution_count": 62,
     "metadata": {},
     "output_type": "execute_result"
    }
   ],
   "source": [
    "confinter = model4.conf_int(alpha=0.05)\n",
    "confinter.rename(columns={0: \"min.\", 1: \"max.\",})"
   ]
  },
  {
   "cell_type": "code",
   "execution_count": 63,
   "metadata": {},
   "outputs": [
    {
     "data": {
      "text/html": [
       "<div>\n",
       "<style scoped>\n",
       "    .dataframe tbody tr th:only-of-type {\n",
       "        vertical-align: middle;\n",
       "    }\n",
       "\n",
       "    .dataframe tbody tr th {\n",
       "        vertical-align: top;\n",
       "    }\n",
       "\n",
       "    .dataframe thead th {\n",
       "        text-align: right;\n",
       "    }\n",
       "</style>\n",
       "<table border=\"1\" class=\"dataframe\">\n",
       "  <thead>\n",
       "    <tr style=\"text-align: right;\">\n",
       "      <th></th>\n",
       "      <th>min.</th>\n",
       "      <th>max.</th>\n",
       "    </tr>\n",
       "  </thead>\n",
       "  <tbody>\n",
       "    <tr>\n",
       "      <th>Intercept</th>\n",
       "      <td>-1.118190</td>\n",
       "      <td>-0.746535</td>\n",
       "    </tr>\n",
       "    <tr>\n",
       "      <th>X</th>\n",
       "      <td>0.419178</td>\n",
       "      <td>0.787279</td>\n",
       "    </tr>\n",
       "  </tbody>\n",
       "</table>\n",
       "</div>"
      ],
      "text/plain": [
       "               min.      max.\n",
       "Intercept -1.118190 -0.746535\n",
       "X          0.419178  0.787279"
      ]
     },
     "execution_count": 63,
     "metadata": {},
     "output_type": "execute_result"
    }
   ],
   "source": [
    "confinter = model2.conf_int(alpha=0.05)\n",
    "confinter.rename(columns={0: \"min.\", 1: \"max.\",})"
   ]
  }
 ],
 "metadata": {
  "kernelspec": {
   "display_name": "Python 3",
   "language": "python",
   "name": "python3"
  },
  "language_info": {
   "codemirror_mode": {
    "name": "ipython",
    "version": 3
   },
   "file_extension": ".py",
   "mimetype": "text/x-python",
   "name": "python",
   "nbconvert_exporter": "python",
   "pygments_lexer": "ipython3",
   "version": "3.8.5"
  }
 },
 "nbformat": 4,
 "nbformat_minor": 4
}
