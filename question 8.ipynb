{
 "cells": [
  {
   "cell_type": "code",
   "execution_count": 14,
   "metadata": {},
   "outputs": [],
   "source": [
    "import numpy as np\n",
    "import pandas as pd\n",
    "import matplotlib.pyplot as plt\n",
    "from sklearn.linear_model import LinearRegression\n",
    "from sklearn.model_selection import train_test_split\n",
    "from sklearn import metrics\n",
    "import statsmodels.formula.api as smf"
   ]
  },
  {
   "cell_type": "code",
   "execution_count": 7,
   "metadata": {},
   "outputs": [],
   "source": [
    "dataset=pd.read_csv(\"Auto.csv\")\n",
    "newdataset=dataset[[\"mpg\",\"horsepower\"]]\n",
    "\n",
    "\n"
   ]
  },
  {
   "cell_type": "code",
   "execution_count": 4,
   "metadata": {},
   "outputs": [
    {
     "data": {
      "image/png": "[encoded data removed]",
      "text/plain": [
       "<Figure size 432x288 with 1 Axes>"
      ]
     },
     "metadata": {
      "needs_background": "light"
     },
     "output_type": "display_data"
    }
   ],
   "source": [
    "\n",
    "newdataset.plot(x=\"horsepower\",y=\"mpg\",style=\"o\")\n",
    "plt.title(\"Relation between the horsepower and mpg\")\n",
    "plt.xlabel(\"horsepower\")\n",
    "plt.ylabel(\"mpg\")\n",
    "plt.show()"
   ]
  },
  {
   "cell_type": "code",
   "execution_count": 6,
   "metadata": {},
   "outputs": [],
   "source": [
    "X=newdataset[[\"horsepower\"]]\n",
    "y=newdataset[\"mpg\"]\n",
    "X_train, X_test, y_train, y_test = train_test_split(X, y, test_size=0.3, random_state=0)\n"
   ]
  },
  {
   "cell_type": "code",
   "execution_count": 9,
   "metadata": {},
   "outputs": [
    {
     "name": "stdout",
     "output_type": "stream",
     "text": [
      "39.678735023070885\n",
      "[-0.15762477]\n"
     ]
    }
   ],
   "source": [
    "model=LinearRegression()\n",
    "model.fit(X_train,y_train)\n",
    "print(model.intercept_)\n",
    "print(model.coef_)\n"
   ]
  },
  {
   "cell_type": "code",
   "execution_count": 16,
   "metadata": {},
   "outputs": [],
   "source": [
    "model2=smf.ols(formula=\"y~X\",data=newdataset).fit()"
   ]
  },
  {
   "cell_type": "code",
   "execution_count": 11,
   "metadata": {},
   "outputs": [
    {
     "data": {
      "image/png": "[encoded data removed]",
      "text/plain": [
       "<Figure size 432x288 with 1 Axes>"
      ]
     },
     "metadata": {
      "needs_background": "light"
     },
     "output_type": "display_data"
    }
   ],
   "source": [
    "plt.scatter(X_test, y_test,  color='blue')\n",
    "plt.plot(X_test, y_pred, color='orange',linewidth=2)\n",
    "plt.show()"
   ]
  },
  {
   "cell_type": "code",
   "execution_count": 27,
   "metadata": {},
   "outputs": [
    {
     "data": {
      "text/html": [
       "<div>\n",
       "<style scoped>\n",
       "    .dataframe tbody tr th:only-of-type {\n",
       "        vertical-align: middle;\n",
       "    }\n",
       "\n",
       "    .dataframe tbody tr th {\n",
       "        vertical-align: top;\n",
       "    }\n",
       "\n",
       "    .dataframe thead th {\n",
       "        text-align: right;\n",
       "    }\n",
       "</style>\n",
       "<table border=\"1\" class=\"dataframe\">\n",
       "  <thead>\n",
       "    <tr style=\"text-align: right;\">\n",
       "      <th></th>\n",
       "      <th>mean</th>\n",
       "      <th>mean_se</th>\n",
       "      <th>mean_ci_lower</th>\n",
       "      <th>mean_ci_upper</th>\n",
       "      <th>obs_ci_lower</th>\n",
       "      <th>obs_ci_upper</th>\n",
       "    </tr>\n",
       "  </thead>\n",
       "  <tbody>\n",
       "    <tr>\n",
       "      <th>0</th>\n",
       "      <td>19.416046</td>\n",
       "      <td>0.297444</td>\n",
       "      <td>18.831250</td>\n",
       "      <td>20.000841</td>\n",
       "      <td>9.753295</td>\n",
       "      <td>29.078797</td>\n",
       "    </tr>\n",
       "    <tr>\n",
       "      <th>1</th>\n",
       "      <td>13.891480</td>\n",
       "      <td>0.462181</td>\n",
       "      <td>12.982802</td>\n",
       "      <td>14.800158</td>\n",
       "      <td>4.203732</td>\n",
       "      <td>23.579228</td>\n",
       "    </tr>\n",
       "    <tr>\n",
       "      <th>2</th>\n",
       "      <td>16.259151</td>\n",
       "      <td>0.384080</td>\n",
       "      <td>15.504025</td>\n",
       "      <td>17.014277</td>\n",
       "      <td>6.584598</td>\n",
       "      <td>25.933704</td>\n",
       "    </tr>\n",
       "    <tr>\n",
       "      <th>3</th>\n",
       "      <td>16.259151</td>\n",
       "      <td>0.384080</td>\n",
       "      <td>15.504025</td>\n",
       "      <td>17.014277</td>\n",
       "      <td>6.584598</td>\n",
       "      <td>25.933704</td>\n",
       "    </tr>\n",
       "    <tr>\n",
       "      <th>4</th>\n",
       "      <td>17.837598</td>\n",
       "      <td>0.337403</td>\n",
       "      <td>17.174242</td>\n",
       "      <td>18.500955</td>\n",
       "      <td>8.169775</td>\n",
       "      <td>27.505422</td>\n",
       "    </tr>\n",
       "    <tr>\n",
       "      <th>...</th>\n",
       "      <td>...</td>\n",
       "      <td>...</td>\n",
       "      <td>...</td>\n",
       "      <td>...</td>\n",
       "      <td>...</td>\n",
       "      <td>...</td>\n",
       "    </tr>\n",
       "    <tr>\n",
       "      <th>387</th>\n",
       "      <td>26.361214</td>\n",
       "      <td>0.274892</td>\n",
       "      <td>25.820758</td>\n",
       "      <td>26.901669</td>\n",
       "      <td>16.701045</td>\n",
       "      <td>36.021383</td>\n",
       "    </tr>\n",
       "    <tr>\n",
       "      <th>388</th>\n",
       "      <td>31.727935</td>\n",
       "      <td>0.419246</td>\n",
       "      <td>30.903669</td>\n",
       "      <td>32.552201</td>\n",
       "      <td>22.047739</td>\n",
       "      <td>41.408130</td>\n",
       "    </tr>\n",
       "    <tr>\n",
       "      <th>389</th>\n",
       "      <td>26.676903</td>\n",
       "      <td>0.280715</td>\n",
       "      <td>26.124999</td>\n",
       "      <td>27.228808</td>\n",
       "      <td>17.016087</td>\n",
       "      <td>36.337720</td>\n",
       "    </tr>\n",
       "    <tr>\n",
       "      <th>390</th>\n",
       "      <td>27.466127</td>\n",
       "      <td>0.297226</td>\n",
       "      <td>26.881761</td>\n",
       "      <td>28.050493</td>\n",
       "      <td>17.803402</td>\n",
       "      <td>37.128852</td>\n",
       "    </tr>\n",
       "    <tr>\n",
       "      <th>391</th>\n",
       "      <td>26.992593</td>\n",
       "      <td>0.286999</td>\n",
       "      <td>26.428333</td>\n",
       "      <td>27.556853</td>\n",
       "      <td>17.331063</td>\n",
       "      <td>36.654123</td>\n",
       "    </tr>\n",
       "  </tbody>\n",
       "</table>\n",
       "<p>392 rows × 6 columns</p>\n",
       "</div>"
      ],
      "text/plain": [
       "          mean   mean_se  mean_ci_lower  mean_ci_upper  obs_ci_lower  \\\n",
       "0    19.416046  0.297444      18.831250      20.000841      9.753295   \n",
       "1    13.891480  0.462181      12.982802      14.800158      4.203732   \n",
       "2    16.259151  0.384080      15.504025      17.014277      6.584598   \n",
       "3    16.259151  0.384080      15.504025      17.014277      6.584598   \n",
       "4    17.837598  0.337403      17.174242      18.500955      8.169775   \n",
       "..         ...       ...            ...            ...           ...   \n",
       "387  26.361214  0.274892      25.820758      26.901669     16.701045   \n",
       "388  31.727935  0.419246      30.903669      32.552201     22.047739   \n",
       "389  26.676903  0.280715      26.124999      27.228808     17.016087   \n",
       "390  27.466127  0.297226      26.881761      28.050493     17.803402   \n",
       "391  26.992593  0.286999      26.428333      27.556853     17.331063   \n",
       "\n",
       "     obs_ci_upper  \n",
       "0       29.078797  \n",
       "1       23.579228  \n",
       "2       25.933704  \n",
       "3       25.933704  \n",
       "4       27.505422  \n",
       "..            ...  \n",
       "387     36.021383  \n",
       "388     41.408130  \n",
       "389     36.337720  \n",
       "390     37.128852  \n",
       "391     36.654123  \n",
       "\n",
       "[392 rows x 6 columns]"
      ]
     },
     "execution_count": 27,
     "metadata": {},
     "output_type": "execute_result"
    }
   ],
   "source": [
    "\n",
    "predictions = model2.get_prediction(X)\n",
    "predictions.summary_frame(alpha=0.05)"
   ]
  },
  {
   "cell_type": "code",
   "execution_count": 28,
   "metadata": {},
   "outputs": [
    {
     "name": "stdout",
     "output_type": "stream",
     "text": [
      "[24.23150715]\n"
     ]
    }
   ],
   "source": [
    "#diagnostic plot\n",
    "prediction = model.predict(pd.DataFrame({\"horsepower\": [98]}))\n",
    "print(prediction)\n"
   ]
  },
  {
   "cell_type": "raw",
   "metadata": {},
   "source": [
    "In above plot we can see there is heteroscedasticity"
   ]
  }
 ],
 "metadata": {
  "kernelspec": {
   "display_name": "Python 3",
   "language": "python",
   "name": "python3"
  },
  "language_info": {
   "codemirror_mode": {
    "name": "ipython",
    "version": 3
   },
   "file_extension": ".py",
   "mimetype": "text/x-python",
   "name": "python",
   "nbconvert_exporter": "python",
   "pygments_lexer": "ipython3",
   "version": "3.8.5"
  }
 },
 "nbformat": 4,
 "nbformat_minor": 4
}
